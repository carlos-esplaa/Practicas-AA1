{
 "cells": [
  {
   "cell_type": "markdown",
   "id": "dcc45524",
   "metadata": {},
   "source": [
    "# Práctica 6: Regresión Logística.\n",
    "\n",
    "- Grupo 1:\n",
    "    - Jesús María Matos Torres.\n",
    "    - Carlos Santana Esplá."
   ]
  },
  {
   "cell_type": "code",
   "execution_count": 2,
   "id": "b098ac20",
   "metadata": {},
   "outputs": [],
   "source": [
    "import numpy as np\n",
    "import pandas as pd\n",
    "import matplotlib.pyplot as plt\n",
    "from sklearn.linear_model import Perceptron\n",
    "from sklearn.model_selection import train_test_split\n",
    "from sklearn.linear_model import LogisticRegression\n",
    "from sklearn.metrics import accuracy_score\n",
    "from sklearn.datasets import make_blobs\n",
    "import os"
   ]
  },
  {
   "cell_type": "markdown",
   "id": "13a557d3",
   "metadata": {},
   "source": [
    "## Ejercicio 1: Regresión logística vs Perceptrón."
   ]
  },
  {
   "cell_type": "code",
   "execution_count": 3,
   "id": "b8a10444",
   "metadata": {},
   "outputs": [],
   "source": [
    "x, y = make_blobs(n_samples=60, centers = [(-7.0,-7.0),(-2.0,10.0),(5.0,2.0)], random_state=0)\n",
    "x_train, x_test, y_train, y_test = train_test_split(x, y, test_size=0.3, train_size=0.7)"
   ]
  },
  {
   "cell_type": "code",
   "execution_count": 4,
   "id": "c1e9b71c",
   "metadata": {},
   "outputs": [],
   "source": [
    "clf = Perceptron().fit(x_train, y_train)\n",
    "coor_y1 = (-(clf.coef_[0][0]/clf.coef_[0][1])*x_train[:,0]) - (clf.intercept_[0]/clf.coef_[0][1])\n",
    "coor_y2 = (-(clf.coef_[1][0]/clf.coef_[1][1])*x_train[:,0]) - (clf.intercept_[1]/clf.coef_[1][1])\n",
    "coor_y3 = (-(clf.coef_[2][0]/clf.coef_[2][1])*x_train[:,0]) - (clf.intercept_[2]/clf.coef_[2][1])"
   ]
  },
  {
   "cell_type": "markdown",
   "id": "4f8b132c",
   "metadata": {},
   "source": [
    "- Obtenemos un clasificador lineal con el método Perceptrón y hallamos las coordenadas y de cada recta que se nos crea en función a la clase."
   ]
  },
  {
   "cell_type": "code",
   "execution_count": 5,
   "id": "c8354b24",
   "metadata": {},
   "outputs": [],
   "source": [
    "clf1 = LogisticRegression(random_state=33).fit(x_train, y_train)\n",
    "coor_y1_2 = (-(clf1.coef_[0][0]/clf1.coef_[0][1])*x_train[:,0]) - (clf1.intercept_[0]/clf1.coef_[0][1])\n",
    "coor_y2_2 = (-(clf1.coef_[1][0]/clf1.coef_[1][1])*x_train[:,0]) - (clf1.intercept_[1]/clf1.coef_[1][1])\n",
    "coor_y3_2 = (-(clf1.coef_[2][0]/clf1.coef_[2][1])*x_train[:,0]) - (clf1.intercept_[2]/clf1.coef_[2][1])"
   ]
  },
  {
   "cell_type": "markdown",
   "id": "795ae02c",
   "metadata": {},
   "source": [
    "- Obtenemos un clasificador lineal mediante Regresión Logística y hallamos las coordenadas y de cada recta que se nos crea en función a la clase."
   ]
  },
  {
   "cell_type": "code",
   "execution_count": 6,
   "id": "9064ca53",
   "metadata": {},
   "outputs": [
    {
     "data": {
      "image/png": "[encoded data removed]",
      "text/plain": [
       "<Figure size 640x480 with 1 Axes>"
      ]
     },
     "metadata": {},
     "output_type": "display_data"
    }
   ],
   "source": [
    "ax = plt.subplot()\n",
    "for i in range(len(x_train)):\n",
    "    ax.scatter(x_train[i][0], x_train[i][1], color='black')\n",
    "        \n",
    "ax.plot(x_train[:,0], coor_y1, color='blue')\n",
    "ax.plot(x_train[:,0], coor_y2, color='blue')\n",
    "ax.plot(x_train[:,0], coor_y3, color='blue')\n",
    "\n",
    "ax.plot(x_train[:,0], coor_y1_2, color='red')\n",
    "ax.plot(x_train[:,0], coor_y2_2, color='red')\n",
    "ax.plot(x_train[:,0], coor_y3_2, color='red')\n",
    "plt.show()"
   ]
  },
  {
   "cell_type": "markdown",
   "id": "ae4b0783",
   "metadata": {},
   "source": [
    "- En el gráfico mostramos las muestras con las que se entrenó el modelo (puntos negros), las superficies de decisión obtenidas con el Perceptron (líneas azules) y por último, las obtenidas mediante Regresión Logística (líneas roja).\n",
    "\n",
    "- Como conclusión, la Regresión Logística es más precisa que el método Perceptron."
   ]
  },
  {
   "cell_type": "markdown",
   "id": "68ce8dc4",
   "metadata": {},
   "source": [
    "## Ejercicio 2: Ejercicio 2: Implementar un clasificador de sexo basado en la imagen de la cara.\n",
    " "
   ]
  },
  {
   "cell_type": "code",
   "execution_count": 1,
   "id": "a91dd4e5",
   "metadata": {},
   "outputs": [
    {
     "ename": "NameError",
     "evalue": "name 'pd' is not defined",
     "output_type": "error",
     "traceback": [
      "\u001b[1;31m---------------------------------------------------------------------------\u001b[0m",
      "\u001b[1;31mNameError\u001b[0m                                 Traceback (most recent call last)",
      "\u001b[1;32m~\\AppData\\Local\\Temp\\ipykernel_15152\\977747317.py\u001b[0m in \u001b[0;36m<module>\u001b[1;34m\u001b[0m\n\u001b[1;32m----> 1\u001b[1;33m \u001b[0mdf_train\u001b[0m \u001b[1;33m=\u001b[0m \u001b[0mpd\u001b[0m\u001b[1;33m.\u001b[0m\u001b[0mread_csv\u001b[0m\u001b[1;33m(\u001b[0m\u001b[1;34m'./datos practicas/Aprendizaje-Automatico-I-main/Practica 5/CelebA-10K/CelebA-10K-train.csv'\u001b[0m\u001b[1;33m,\u001b[0m \u001b[0msep\u001b[0m\u001b[1;33m=\u001b[0m\u001b[1;34m','\u001b[0m\u001b[1;33m)\u001b[0m\u001b[1;33m\u001b[0m\u001b[1;33m\u001b[0m\u001b[0m\n\u001b[0m\u001b[0;32m      2\u001b[0m \u001b[0mdf_test\u001b[0m \u001b[1;33m=\u001b[0m \u001b[0mpd\u001b[0m\u001b[1;33m.\u001b[0m\u001b[0mread_csv\u001b[0m\u001b[1;33m(\u001b[0m\u001b[1;34m'./datos practicas/Aprendizaje-Automatico-I-main/Practica 5/CelebA-10K/CelebA-10K-test.csv'\u001b[0m\u001b[1;33m,\u001b[0m \u001b[0msep\u001b[0m\u001b[1;33m=\u001b[0m\u001b[1;34m','\u001b[0m\u001b[1;33m)\u001b[0m\u001b[1;33m\u001b[0m\u001b[1;33m\u001b[0m\u001b[0m\n",
      "\u001b[1;31mNameError\u001b[0m: name 'pd' is not defined"
     ]
    }
   ],
   "source": [
    "df_train = pd.read_csv('./datos practicas/Aprendizaje-Automatico-I-main/Practica 5/CelebA-10K/CelebA-10K-train.csv', sep=',')\n",
    "df_test = pd.read_csv('./datos practicas/Aprendizaje-Automatico-I-main/Practica 5/CelebA-10K/CelebA-10K-test.csv', sep=',')"
   ]
  },
  {
   "cell_type": "code",
   "execution_count": 8,
   "id": "0957242b",
   "metadata": {},
   "outputs": [
    {
     "data": {
      "text/plain": [
       "0.9126"
      ]
     },
     "execution_count": 8,
     "metadata": {},
     "output_type": "execute_result"
    }
   ],
   "source": [
    "x_train = df_train.iloc[:,2:]\n",
    "y_train = df_train.iloc[:,1]\n",
    "x_test = df_test.iloc[:,2:]\n",
    "y_test = df_test.iloc[:,1]\n",
    "\n",
    "clf = LogisticRegression(random_state=33).fit(x_train, y_train)\n",
    "y_pred = clf.predict(x_test)\n",
    "\n",
    "accuracy_score(y_test, y_pred)"
   ]
  },
  {
   "cell_type": "code",
   "execution_count": 11,
   "id": "d0cff422",
   "metadata": {},
   "outputs": [
    {
     "data": {
      "text/plain": [
       "0       female\n",
       "1         male\n",
       "2       female\n",
       "3         male\n",
       "4         male\n",
       "         ...  \n",
       "4995    female\n",
       "4996    female\n",
       "4997    female\n",
       "4998      male\n",
       "4999    female\n",
       "Name: Gender, Length: 5000, dtype: object"
      ]
     },
     "execution_count": 11,
     "metadata": {},
     "output_type": "execute_result"
    }
   ],
   "source": [
    "x_train\n",
    "y_train"
   ]
  },
  {
   "cell_type": "markdown",
   "id": "7269139c",
   "metadata": {},
   "source": [
    "- Después de haber hecho la regresión logística, nos damos cuenta que la taza de acierto es 91.26%, por tanto, afirmamos que al superar con creces el 50%, su uso sería muy positivo."
   ]
  },
  {
   "cell_type": "markdown",
   "id": "1805f3f6",
   "metadata": {},
   "source": [
    "### Apartado opcional ejercicio 2: Clasificar las imágenes que están en el archivo comprimido ImagenesParaClasificar.zip que se encuentra en el github de las prácticas de la asignatura y cuyas características están en el conjunto de datos de test CelebA-10K-test.csv, indicando cuales de ellas las clasifica incorrectamente el clasificador.\n"
   ]
  },
  {
   "cell_type": "code",
   "execution_count": 43,
   "id": "14c1b453",
   "metadata": {},
   "outputs": [
    {
     "name": "stdout",
     "output_type": "stream",
     "text": [
      "female\n",
      "male\n",
      "male\n",
      "female\n",
      "female\n",
      "male\n",
      "female\n",
      "female\n"
     ]
    }
   ],
   "source": [
    "y_name = df_test.iloc[:,0]\n",
    "\n",
    "nombre = os.listdir(r'C:\\Users\\fenix\\OneDrive\\Escritorio\\asignaturas segundo\\Aprendizaje automatico\\practicas\\datos practicas\\Aprendizaje-Automatico-I-main\\Practica 5\\ImagenesParaClasificar\\ImagenesParaClasificar')\n",
    "for i in range(len(y_test)):\n",
    "    for j in range(len(nombre)):\n",
    "        if y_name[i] == nombre[j]:\n",
    "            print(y_pred[i])"
   ]
  }
 ],
 "metadata": {
  "kernelspec": {
   "display_name": "Python 3 (ipykernel)",
   "language": "python",
   "name": "python3"
  },
  "language_info": {
   "codemirror_mode": {
    "name": "ipython",
    "version": 3
   },
   "file_extension": ".py",
   "mimetype": "text/x-python",
   "name": "python",
   "nbconvert_exporter": "python",
   "pygments_lexer": "ipython3",
   "version": "3.9.13"
  }
 },
 "nbformat": 4,
 "nbformat_minor": 5
}
