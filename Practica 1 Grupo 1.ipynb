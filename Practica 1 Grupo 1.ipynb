{
 "cells": [
  {
   "cell_type": "markdown",
   "id": "d086f873",
   "metadata": {},
   "source": [
    "### Práctica 1: procesado básico de datos.\n",
    "\n",
    "- Grupo: \n",
    "    - Jesús Matos Torres.\n",
    "    - Carlos Santana Esplá.\n"
   ]
  },
  {
   "cell_type": "markdown",
   "id": "50099356",
   "metadata": {},
   "source": [
    "## Ejercicio 1: Codificador de valores simbólicos a numéricos.\n",
    "\n"
   ]
  },
  {
   "cell_type": "code",
   "execution_count": 11,
   "id": "cc04bc21",
   "metadata": {},
   "outputs": [
    {
     "name": "stdout",
     "output_type": "stream",
     "text": [
      "[0, 2, 0, 4]\n",
      "['d', 'b', 'c', 'e', 'b', 'a']\n"
     ]
    }
   ],
   "source": [
    "class CodificarEtiqueta:\n",
    "    def __init__(self):\n",
    "        self.lista_final = []\n",
    "        self.dic = {}\n",
    "\n",
    "    def inicializar(self, lista):\n",
    "        self.lista = lista\n",
    "        self.contador = 0\n",
    "        for i in self.lista:\n",
    "            if not i in self.dic:\n",
    "                self.dic[i] = self.contador\n",
    "                self.contador += 1\n",
    "                \n",
    "    def codificador(self, lista):\n",
    "        self.lista_final.clear()\n",
    "        self.lista = lista\n",
    "        for i in self.lista:\n",
    "            if i in self.dic:\n",
    "                self.lista_final.append(self.dic[i])\n",
    "            else:\n",
    "                raise TypeError(\"valor simbólico no definido\")\n",
    "        return self.lista_final\n",
    "                \n",
    "    def decodificador(self, lista):\n",
    "        self.lista_final.clear()\n",
    "        self.lista = lista\n",
    "        for i in self.lista:\n",
    "            l1 = len(self.lista_final)\n",
    "            for j in self.dic:\n",
    "                if i == self.dic[j]:\n",
    "                    self.lista_final.append(j)\n",
    "            if l1 == len(self.lista_final):\n",
    "                raise TypeError(\"valor fuera de rango\")\n",
    "        return self.lista_final\n",
    "\n",
    "midic = CodificarEtiqueta()\n",
    "midic.inicializar([\"a\",\"b\",\"c\",\"d\",\"e\"])\n",
    "resultado_codificador = midic.codificador([\"a\", \"c\", \"a\", \"e\"])\n",
    "print(resultado_codificador)\n",
    "resultado_decodificador = midic.decodificador([3, 1, 2, 4, 1, 0])\n",
    "print(resultado_decodificador)"
   ]
  },
  {
   "cell_type": "markdown",
   "id": "10ec1182",
   "metadata": {},
   "source": [
    "### Explicación:\n",
    "\n",
    "A la hora de resolver el código, utilizamos diccionarios para añadir cada código simbólico como un código numérico, lo que nos facilitará la resolución en los métodos codificador y decodificador. Esto es debido a que, cada método accede al diccionario y transforma su valor numérico a simbólico o viseversa. \n"
   ]
  },
  {
   "cell_type": "markdown",
   "id": "a6612ce6",
   "metadata": {},
   "source": [
    "### Ejercicio 2: escala de valores."
   ]
  },
  {
   "cell_type": "code",
   "execution_count": 21,
   "id": "e9bfcfdc",
   "metadata": {},
   "outputs": [
    {
     "name": "stdout",
     "output_type": "stream",
     "text": [
      "[[ 0.75  1.   -1.  ]\n",
      " [-1.   -1.    1.  ]\n",
      " [ 1.   -1.    0.  ]]\n",
      "[[8. 4. 1.]\n",
      " [1. 2. 5.]\n",
      " [9. 2. 3.]]\n",
      "[[-0.5   0.   -0.5 ]\n",
      " [ 0.    1.    0.  ]\n",
      " [-0.75  1.    0.5 ]]\n",
      "[[3. 3. 2.]\n",
      " [5. 4. 3.]\n",
      " [2. 4. 4.]]\n",
      "[[ 0.5  -2.   -1.5 ]\n",
      " [ 1.75 -1.   -1.5 ]\n",
      " [-0.25  2.   18.5 ]]\n",
      "[[ 7.  1.  0.]\n",
      " [12.  2.  0.]\n",
      " [ 4.  5. 40.]]\n"
     ]
    }
   ],
   "source": [
    "import numpy as np\n",
    "\n",
    "class EscalarValores:\n",
    "    def __init__(self):\n",
    "        self.min = -1\n",
    "        self.max = 1\n",
    "        self.n = []\n",
    "        self.m = []\n",
    "\n",
    "    def inicializar(self, matriz):\n",
    "        i = 0\n",
    "        columna = []\n",
    "        while i < len(matriz[0]):\n",
    "            for fila in matriz:\n",
    "                columna.append(fila[i])\n",
    "\n",
    "            min_colum = min(columna)\n",
    "            max_colum = max(columna)\n",
    "            \n",
    "            self.m.append(((self.max - self.min))/(max_colum-min_colum))\n",
    "            self.n.append(((self.min*max_colum)-(self.max*min_colum))/(max_colum-min_colum))\n",
    "\n",
    "            columna.clear()\n",
    "            i += 1\n",
    "            \n",
    "        \n",
    "    def escalar(self, matriz):\n",
    "        for i in range(len(matriz)):\n",
    "            for j in range(len(matriz[i])):\n",
    "                matriz[j][i] = self.m[i]*matriz[j][i]+self.n[i]\n",
    "        return matriz\n",
    "        \n",
    "    def escalar_inv(self, matriz):\n",
    "        for i in range(len(matriz)):\n",
    "            for j in range(len(matriz[i])):\n",
    "                matriz[j][i] = (matriz[j][i]-self.n[i])/(self.m[i])\n",
    "        return matriz\n",
    "        \n",
    "mimat = EscalarValores()\n",
    "a = np.array([[8,4,1],[1,2,5],[9,2,3]], float)\n",
    "mimat.inicializar(a)\n",
    "res = mimat.escalar(a)\n",
    "print(res)\n",
    "print(mimat.escalar_inv(res))\n",
    "\n",
    "a = np.array([[3,3,2],[5,4,3],[2,4,4]], float)\n",
    "res = mimat.escalar(a)\n",
    "print(res)\n",
    "print(mimat.escalar_inv(res))\n",
    "\n",
    "a = np.array([[7,1,0],[12,2,0],[4,5,40]], float)\n",
    "res = mimat.escalar(a)\n",
    "print(res)\n",
    "print(mimat.escalar_inv(res))"
   ]
  },
  {
   "cell_type": "markdown",
   "id": "cd84637b",
   "metadata": {},
   "source": [
    "### Explicación:\n",
    "\n",
    "En inicializar calculamos la pendiente y la desviación y lo guardamos como variable global utilizando constructores.\n",
    "\n",
    "Dentro de los métodos de escalar y escalar_inv y utilizando la fórmula de la recta, hallamos la matriz escalada e inversa en los diferentes ejemplos."
   ]
  },
  {
   "cell_type": "code",
   "execution_count": null,
   "id": "f407b23f",
   "metadata": {},
   "outputs": [],
   "source": []
  }
 ],
 "metadata": {
  "kernelspec": {
   "display_name": "Python 3 (ipykernel)",
   "language": "python",
   "name": "python3"
  },
  "language_info": {
   "codemirror_mode": {
    "name": "ipython",
    "version": 3
   },
   "file_extension": ".py",
   "mimetype": "text/x-python",
   "name": "python",
   "nbconvert_exporter": "python",
   "pygments_lexer": "ipython3",
   "version": "3.9.13"
  }
 },
 "nbformat": 4,
 "nbformat_minor": 5
}
