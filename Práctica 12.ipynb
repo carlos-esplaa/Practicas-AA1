{
 "cells": [
  {
   "cell_type": "markdown",
   "id": "3e70ee23",
   "metadata": {},
   "source": [
    "# Práctica 12:  Evaluación en clasificación\n",
    "\n",
    "- Grupo 1:\n",
    "    - Jesús María Matos Torres.\n",
    "    - Carlos Santana Esplá."
   ]
  },
  {
   "cell_type": "code",
   "execution_count": 1,
   "id": "84a7f8f3",
   "metadata": {},
   "outputs": [],
   "source": [
    "import numpy as np\n",
    "import pandas as pd\n",
    "import matplotlib.pyplot as plt\n",
    "from sklearn.model_selection import train_test_split\n",
    "from sklearn.metrics import accuracy_score\n",
    "from sklearn.tree import DecisionTreeRegressor\n",
    "from sklearn.metrics import mean_squared_error\n",
    "from sklearn.linear_model import LinearRegression\n",
    "import random"
   ]
  },
  {
   "cell_type": "markdown",
   "id": "378e12e4",
   "metadata": {},
   "source": [
    "## Ejercicio 1: Estimación del valor de las casas"
   ]
  },
  {
   "cell_type": "code",
   "execution_count": 2,
   "id": "98956b73",
   "metadata": {
    "scrolled": true
   },
   "outputs": [],
   "source": [
    "df = pd.read_csv('./datos practicas/Aprendizaje-Automatico-I-main/Practica 3/precio_casas.csv', sep=';')\n",
    "x = df.iloc[:,:8]\n",
    "y = df.iloc[:,8]"
   ]
  },
  {
   "cell_type": "code",
   "execution_count": 3,
   "id": "c9b97213",
   "metadata": {},
   "outputs": [
    {
     "name": "stdout",
     "output_type": "stream",
     "text": [
      "La media para el criterio: squared_error del árbol de regresión es 0.5305\n",
      "Y la desviacion típica es 0.0254\n",
      "La media para el criterio: friedman_mse del árbol de regresión es 0.5256\n",
      "Y la desviacion típica es 0.0154\n",
      "La media para el criterio: absolute_error del árbol de regresión es 0.5418\n",
      "Y la desviacion típica es 0.0235\n",
      "La media para el criterio: poisson del árbol de regresión es 0.5197\n",
      "Y la desviacion típica es 0.0176\n",
      "La media para la regresión lineal es: 0.5826\n",
      "Y la desviacion típica es: 0.1568\n"
     ]
    }
   ],
   "source": [
    "cri = ['squared_error', 'friedman_mse', 'absolute_error', 'poisson']\n",
    "\n",
    "for j in range(len(cri)):\n",
    "    arbol = []\n",
    "    for i in range(10):\n",
    "        x_train, x_test, y_train, y_test = train_test_split(x, y, test_size=0.3, train_size=0.7)\n",
    "        regr = DecisionTreeRegressor(criterion=cri[j]).fit(x_train, y_train)\n",
    "        arb_pred = regr.predict(x_test)\n",
    "        arbol.append(mean_squared_error(y_test, arb_pred))\n",
    "        \n",
    "    print('La media para el criterio:', cri[j],'del árbol de regresión es', round(np.mean(arbol),4))\n",
    "    print('Y la desviacion típica es', round(np.std(arbol),4))\n",
    "\n",
    "lineal = []        \n",
    "for i in range(10):\n",
    "    x_train, x_test, y_train, y_test = train_test_split(x, y, test_size=0.3, train_size=0.7)\n",
    "    lin = LinearRegression().fit(x_train, y_train)\n",
    "    lin_pred = lin.predict(x_test)\n",
    "    lineal.append(mean_squared_error(y_test, lin_pred))\n",
    "    \n",
    "print('La media para la regresión lineal es:', round(np.mean(lineal),4))\n",
    "print('Y la desviacion típica es:', round(np.std(lineal),4))"
   ]
  },
  {
   "cell_type": "markdown",
   "id": "6d006c40",
   "metadata": {},
   "source": [
    "- Como podemos analisar, dentro de todos los distintos criterios que un árbol de regresión el que mejor media obtiene es el criterio con error absoluto siendo su media un 0.55 y su desviación típica de 0.017, esto quiere decir, que aunque la media es bastante baja, ya que supera a penas la mitad, la desviación típica nos dice que la variabilidad del criterio es muy baja.\n",
    "    \n",
    "    Además, si comparamos el mejor criterio del árbol de regresión (error cuadrático como mencionamos anteriormente), con la media y la desviación típica de la regresión lineal, vemos como a pesar de ser una diferencia bastante baja (menos de un 3%), el árbol de regresión obtiene mejor media y desviación típica."
   ]
  },
  {
   "cell_type": "markdown",
   "id": "bf31e938",
   "metadata": {},
   "source": [
    "## Ejercicio 2: Implementación de la validación cruzada"
   ]
  },
  {
   "cell_type": "code",
   "execution_count": 148,
   "id": "76a9430f",
   "metadata": {},
   "outputs": [
    {
     "data": {
      "text/plain": [
       "0.4133864999999998"
      ]
     },
     "execution_count": 148,
     "metadata": {},
     "output_type": "execute_result"
    }
   ],
   "source": [
    "class val:\n",
    "    def validacion_cv(self, n, n_particiones, mezclar, semilla):\n",
    "        lista = []\n",
    "        array = []\n",
    "\n",
    "        for i in range(n):\n",
    "            array.append(i)\n",
    "            \n",
    "        if mezclar == True:\n",
    "            random.seed(semilla)\n",
    "            random.shuffle(array)\n",
    "            \n",
    "        p = int(n/n_particiones)\n",
    "        s = p\n",
    "        t = 1\n",
    "        for j in range(n_particiones):\n",
    "            sus = np.array(array[t-1:s])\n",
    "            arr = np.array([item for item in array if item not in sus])\n",
    "            lista.append((arr,sus))\n",
    "            s = s+p\n",
    "            t = t+p\n",
    "            return lista\n",
    "        \n",
    "    def arbol_regresion(self, x, y, lista):\n",
    "            dif = []\n",
    "            x = x.to_numpy()\n",
    "            y = y.to_numpy()\n",
    "            \n",
    "            for train_index, test_index in lista:\n",
    "                X_train, X_test = x[train_index], x[test_index]\n",
    "                Y_train, Y_test = y[train_index], y[test_index]\n",
    "                modelo = DecisionTreeRegressor()\n",
    "                modelo.fit(X_train, Y_train)\n",
    "                y_pred = modelo.predict(X_test)\n",
    "                dif.append(mean_squared_error(Y_test, y_pred))\n",
    "                return(np.mean(dif))\n",
    "            \n",
    "v = val()\n",
    "lista = v.validacion_cv(20,5,True,69)\n",
    "v.arbol_regresion(x, y, lista)"
   ]
  },
  {
   "cell_type": "markdown",
   "id": "81f7d0b1",
   "metadata": {},
   "source": [
    "- Después de implementar nuestra propia función (validación_cv), para ver como áctua el problema anterior usando el método de validación cruzada, vemos como el error cuadrático es menor al 50% tras varias iteraciones, por tanto, nuestra función no tiende al error."
   ]
  }
 ],
 "metadata": {
  "kernelspec": {
   "display_name": "Python 3 (ipykernel)",
   "language": "python",
   "name": "python3"
  },
  "language_info": {
   "codemirror_mode": {
    "name": "ipython",
    "version": 3
   },
   "file_extension": ".py",
   "mimetype": "text/x-python",
   "name": "python",
   "nbconvert_exporter": "python",
   "pygments_lexer": "ipython3",
   "version": "3.9.13"
  }
 },
 "nbformat": 4,
 "nbformat_minor": 5
}
